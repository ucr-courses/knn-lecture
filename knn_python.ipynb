{
 "cells": [
  {
   "cell_type": "code",
   "execution_count": 2,
   "id": "83cddb43-c31f-4ee3-892d-8021ecc4bef3",
   "metadata": {},
   "outputs": [],
   "source": [
    "import pandas as pd\n",
    "import numpy as np"
   ]
  },
  {
   "cell_type": "code",
   "execution_count": 3,
   "id": "ccb66376-fa8b-4907-bfa6-4c3aff5bc7fe",
   "metadata": {},
   "outputs": [
    {
     "data": {
      "text/html": [
       "<div>\n",
       "<style scoped>\n",
       "    .dataframe tbody tr th:only-of-type {\n",
       "        vertical-align: middle;\n",
       "    }\n",
       "\n",
       "    .dataframe tbody tr th {\n",
       "        vertical-align: top;\n",
       "    }\n",
       "\n",
       "    .dataframe thead th {\n",
       "        text-align: right;\n",
       "    }\n",
       "</style>\n",
       "<table border=\"1\" class=\"dataframe\">\n",
       "  <thead>\n",
       "    <tr style=\"text-align: right;\">\n",
       "      <th></th>\n",
       "      <th>Personal Loan</th>\n",
       "      <th>Age</th>\n",
       "      <th>Experience</th>\n",
       "      <th>Income</th>\n",
       "      <th>ZIP Code</th>\n",
       "      <th>Family</th>\n",
       "      <th>CCAvg</th>\n",
       "      <th>Education</th>\n",
       "      <th>Mortgage</th>\n",
       "      <th>Securities Account</th>\n",
       "      <th>CD Account</th>\n",
       "      <th>Online</th>\n",
       "      <th>CreditCard</th>\n",
       "    </tr>\n",
       "  </thead>\n",
       "  <tbody>\n",
       "    <tr>\n",
       "      <th>0</th>\n",
       "      <td>0</td>\n",
       "      <td>25</td>\n",
       "      <td>1</td>\n",
       "      <td>49</td>\n",
       "      <td>91107</td>\n",
       "      <td>4</td>\n",
       "      <td>1.6</td>\n",
       "      <td>1</td>\n",
       "      <td>0</td>\n",
       "      <td>1</td>\n",
       "      <td>0</td>\n",
       "      <td>0</td>\n",
       "      <td>0</td>\n",
       "    </tr>\n",
       "    <tr>\n",
       "      <th>1</th>\n",
       "      <td>0</td>\n",
       "      <td>45</td>\n",
       "      <td>19</td>\n",
       "      <td>34</td>\n",
       "      <td>90089</td>\n",
       "      <td>3</td>\n",
       "      <td>1.5</td>\n",
       "      <td>1</td>\n",
       "      <td>0</td>\n",
       "      <td>1</td>\n",
       "      <td>0</td>\n",
       "      <td>0</td>\n",
       "      <td>0</td>\n",
       "    </tr>\n",
       "    <tr>\n",
       "      <th>2</th>\n",
       "      <td>0</td>\n",
       "      <td>39</td>\n",
       "      <td>15</td>\n",
       "      <td>11</td>\n",
       "      <td>94720</td>\n",
       "      <td>1</td>\n",
       "      <td>1.0</td>\n",
       "      <td>1</td>\n",
       "      <td>0</td>\n",
       "      <td>0</td>\n",
       "      <td>0</td>\n",
       "      <td>0</td>\n",
       "      <td>0</td>\n",
       "    </tr>\n",
       "    <tr>\n",
       "      <th>3</th>\n",
       "      <td>0</td>\n",
       "      <td>35</td>\n",
       "      <td>9</td>\n",
       "      <td>100</td>\n",
       "      <td>94112</td>\n",
       "      <td>1</td>\n",
       "      <td>2.7</td>\n",
       "      <td>2</td>\n",
       "      <td>0</td>\n",
       "      <td>0</td>\n",
       "      <td>0</td>\n",
       "      <td>0</td>\n",
       "      <td>0</td>\n",
       "    </tr>\n",
       "    <tr>\n",
       "      <th>4</th>\n",
       "      <td>0</td>\n",
       "      <td>35</td>\n",
       "      <td>8</td>\n",
       "      <td>45</td>\n",
       "      <td>91330</td>\n",
       "      <td>4</td>\n",
       "      <td>1.0</td>\n",
       "      <td>2</td>\n",
       "      <td>0</td>\n",
       "      <td>0</td>\n",
       "      <td>0</td>\n",
       "      <td>0</td>\n",
       "      <td>1</td>\n",
       "    </tr>\n",
       "  </tbody>\n",
       "</table>\n",
       "</div>"
      ],
      "text/plain": [
       "   Personal Loan  Age  Experience  Income  ZIP Code  Family  CCAvg  Education  \\\n",
       "0              0   25           1      49     91107       4    1.6          1   \n",
       "1              0   45          19      34     90089       3    1.5          1   \n",
       "2              0   39          15      11     94720       1    1.0          1   \n",
       "3              0   35           9     100     94112       1    2.7          2   \n",
       "4              0   35           8      45     91330       4    1.0          2   \n",
       "\n",
       "   Mortgage  Securities Account  CD Account  Online  CreditCard  \n",
       "0         0                   1           0       0           0  \n",
       "1         0                   1           0       0           0  \n",
       "2         0                   0           0       0           0  \n",
       "3         0                   0           0       0           0  \n",
       "4         0                   0           0       0           1  "
      ]
     },
     "execution_count": 3,
     "metadata": {},
     "output_type": "execute_result"
    }
   ],
   "source": [
    "dta=pd.read_csv(\"data/UniversalBank_student.csv\")\n",
    "dta.head()"
   ]
  },
  {
   "cell_type": "markdown",
   "id": "59736a8c-5bea-4f71-bf4e-6517cc5368f0",
   "metadata": {},
   "source": [
    "Create dummy variables for education and remove unnecessary columns"
   ]
  },
  {
   "cell_type": "code",
   "execution_count": 4,
   "id": "2b9f1b8f-3fa0-4e68-9adc-a8d62cf3fa43",
   "metadata": {},
   "outputs": [
    {
     "data": {
      "text/html": [
       "<div>\n",
       "<style scoped>\n",
       "    .dataframe tbody tr th:only-of-type {\n",
       "        vertical-align: middle;\n",
       "    }\n",
       "\n",
       "    .dataframe tbody tr th {\n",
       "        vertical-align: top;\n",
       "    }\n",
       "\n",
       "    .dataframe thead th {\n",
       "        text-align: right;\n",
       "    }\n",
       "</style>\n",
       "<table border=\"1\" class=\"dataframe\">\n",
       "  <thead>\n",
       "    <tr style=\"text-align: right;\">\n",
       "      <th></th>\n",
       "      <th>Grad</th>\n",
       "      <th>Advanced</th>\n",
       "    </tr>\n",
       "  </thead>\n",
       "  <tbody>\n",
       "    <tr>\n",
       "      <th>0</th>\n",
       "      <td>0</td>\n",
       "      <td>0</td>\n",
       "    </tr>\n",
       "    <tr>\n",
       "      <th>1</th>\n",
       "      <td>0</td>\n",
       "      <td>0</td>\n",
       "    </tr>\n",
       "    <tr>\n",
       "      <th>2</th>\n",
       "      <td>0</td>\n",
       "      <td>0</td>\n",
       "    </tr>\n",
       "    <tr>\n",
       "      <th>3</th>\n",
       "      <td>1</td>\n",
       "      <td>0</td>\n",
       "    </tr>\n",
       "    <tr>\n",
       "      <th>4</th>\n",
       "      <td>1</td>\n",
       "      <td>0</td>\n",
       "    </tr>\n",
       "  </tbody>\n",
       "</table>\n",
       "</div>"
      ],
      "text/plain": [
       "   Grad  Advanced\n",
       "0     0         0\n",
       "1     0         0\n",
       "2     0         0\n",
       "3     1         0\n",
       "4     1         0"
      ]
     },
     "execution_count": 4,
     "metadata": {},
     "output_type": "execute_result"
    }
   ],
   "source": [
    "dummy_educ=(\n",
    "    pd\n",
    "    .get_dummies(dta.Education)\n",
    "    .rename({1:\"UnderGrad\",2:\"Grad\",3:\"Advanced\"},axis=1)\n",
    "    .drop([\"UnderGrad\"],axis=1)\n",
    ")\n",
    "dummy_educ.head()\n"
   ]
  },
  {
   "cell_type": "code",
   "execution_count": 5,
   "id": "8296adeb-6431-4ab0-9ff7-fab57b4433e4",
   "metadata": {},
   "outputs": [
    {
     "data": {
      "text/html": [
       "<div>\n",
       "<style scoped>\n",
       "    .dataframe tbody tr th:only-of-type {\n",
       "        vertical-align: middle;\n",
       "    }\n",
       "\n",
       "    .dataframe tbody tr th {\n",
       "        vertical-align: top;\n",
       "    }\n",
       "\n",
       "    .dataframe thead th {\n",
       "        text-align: right;\n",
       "    }\n",
       "</style>\n",
       "<table border=\"1\" class=\"dataframe\">\n",
       "  <thead>\n",
       "    <tr style=\"text-align: right;\">\n",
       "      <th></th>\n",
       "      <th>Personal Loan</th>\n",
       "      <th>Age</th>\n",
       "      <th>Experience</th>\n",
       "      <th>Income</th>\n",
       "      <th>Family</th>\n",
       "      <th>CCAvg</th>\n",
       "      <th>Mortgage</th>\n",
       "      <th>Securities Account</th>\n",
       "      <th>CD Account</th>\n",
       "      <th>Online</th>\n",
       "      <th>CreditCard</th>\n",
       "      <th>Grad</th>\n",
       "      <th>Advanced</th>\n",
       "    </tr>\n",
       "  </thead>\n",
       "  <tbody>\n",
       "    <tr>\n",
       "      <th>0</th>\n",
       "      <td>0</td>\n",
       "      <td>25</td>\n",
       "      <td>1</td>\n",
       "      <td>49</td>\n",
       "      <td>4</td>\n",
       "      <td>1.6</td>\n",
       "      <td>0</td>\n",
       "      <td>1</td>\n",
       "      <td>0</td>\n",
       "      <td>0</td>\n",
       "      <td>0</td>\n",
       "      <td>0</td>\n",
       "      <td>0</td>\n",
       "    </tr>\n",
       "    <tr>\n",
       "      <th>1</th>\n",
       "      <td>0</td>\n",
       "      <td>45</td>\n",
       "      <td>19</td>\n",
       "      <td>34</td>\n",
       "      <td>3</td>\n",
       "      <td>1.5</td>\n",
       "      <td>0</td>\n",
       "      <td>1</td>\n",
       "      <td>0</td>\n",
       "      <td>0</td>\n",
       "      <td>0</td>\n",
       "      <td>0</td>\n",
       "      <td>0</td>\n",
       "    </tr>\n",
       "    <tr>\n",
       "      <th>2</th>\n",
       "      <td>0</td>\n",
       "      <td>39</td>\n",
       "      <td>15</td>\n",
       "      <td>11</td>\n",
       "      <td>1</td>\n",
       "      <td>1.0</td>\n",
       "      <td>0</td>\n",
       "      <td>0</td>\n",
       "      <td>0</td>\n",
       "      <td>0</td>\n",
       "      <td>0</td>\n",
       "      <td>0</td>\n",
       "      <td>0</td>\n",
       "    </tr>\n",
       "    <tr>\n",
       "      <th>3</th>\n",
       "      <td>0</td>\n",
       "      <td>35</td>\n",
       "      <td>9</td>\n",
       "      <td>100</td>\n",
       "      <td>1</td>\n",
       "      <td>2.7</td>\n",
       "      <td>0</td>\n",
       "      <td>0</td>\n",
       "      <td>0</td>\n",
       "      <td>0</td>\n",
       "      <td>0</td>\n",
       "      <td>1</td>\n",
       "      <td>0</td>\n",
       "    </tr>\n",
       "    <tr>\n",
       "      <th>4</th>\n",
       "      <td>0</td>\n",
       "      <td>35</td>\n",
       "      <td>8</td>\n",
       "      <td>45</td>\n",
       "      <td>4</td>\n",
       "      <td>1.0</td>\n",
       "      <td>0</td>\n",
       "      <td>0</td>\n",
       "      <td>0</td>\n",
       "      <td>0</td>\n",
       "      <td>1</td>\n",
       "      <td>1</td>\n",
       "      <td>0</td>\n",
       "    </tr>\n",
       "  </tbody>\n",
       "</table>\n",
       "</div>"
      ],
      "text/plain": [
       "   Personal Loan  Age  Experience  Income  Family  CCAvg  Mortgage  \\\n",
       "0              0   25           1      49       4    1.6         0   \n",
       "1              0   45          19      34       3    1.5         0   \n",
       "2              0   39          15      11       1    1.0         0   \n",
       "3              0   35           9     100       1    2.7         0   \n",
       "4              0   35           8      45       4    1.0         0   \n",
       "\n",
       "   Securities Account  CD Account  Online  CreditCard  Grad  Advanced  \n",
       "0                   1           0       0           0     0         0  \n",
       "1                   1           0       0           0     0         0  \n",
       "2                   0           0       0           0     0         0  \n",
       "3                   0           0       0           0     1         0  \n",
       "4                   0           0       0           1     1         0  "
      ]
     },
     "execution_count": 5,
     "metadata": {},
     "output_type": "execute_result"
    }
   ],
   "source": [
    "dta2=(\n",
    "    pd\n",
    "    .concat([dta,dummy_educ],axis=1)\n",
    "    .drop([\"Education\",\"ZIP Code\"],axis=1)\n",
    ")\n",
    "dta2.head()"
   ]
  },
  {
   "cell_type": "markdown",
   "id": "be21f72b-5505-4f25-8d8e-7c48d778aa54",
   "metadata": {},
   "source": [
    "To partition the data into 60\\% training and 40\\% test sets, we use the scikit-learn **train_test_split** function. For the first argument (by position), we need to specify all of the columns in dta2 besides the outcome, i.e., Personal Loan; to accomplish this, we use Pandas **drop** function with *axis* set to `1` (i.e., columns). For the second argument, we specify the outcome, i.e., `dta2[\"Personal Loan\"]`. Finally, for *test_size*, we enter `0.40`, which reflects our 40\\% test set, and for *random_state*, we specify a particular integer chosen at random (e.g., `321`) to keep our results consistent and reproducible. Enter:"
   ]
  },
  {
   "cell_type": "code",
   "execution_count": 6,
   "id": "1ab79654-b1d2-40f3-bbd5-c949931e8330",
   "metadata": {},
   "outputs": [],
   "source": [
    "from sklearn.model_selection import train_test_split\n",
    "\n",
    "X_train, X_test, y_train, y_test = train_test_split(dta2.drop('Personal Loan', axis = 1), \n",
    "                                                    dta2[\"Personal Loan\"], \n",
    "                                                    test_size = 0.40, \n",
    "                                                    random_state = 321)\n"
   ]
  },
  {
   "cell_type": "markdown",
   "id": "65349d9b-b1a7-4520-854e-99ce51d9350b",
   "metadata": {},
   "source": [
    "Running the command above splits our data into four separate variables: X_train and y_train, which are the predictors and outcome variable, respectively, for the training set, and X_test and y_test, which are the predictors and outcome variable for the test set, respectively. To check the sizes of the data, we can use the **len** function:"
   ]
  },
  {
   "cell_type": "code",
   "execution_count": 7,
   "id": "00a17da1-33d4-46ad-827f-85cc4bdd8dde",
   "metadata": {},
   "outputs": [
    {
     "data": {
      "text/plain": [
       "3000"
      ]
     },
     "execution_count": 7,
     "metadata": {},
     "output_type": "execute_result"
    }
   ],
   "source": [
    "len(X_train)"
   ]
  },
  {
   "cell_type": "code",
   "execution_count": 8,
   "id": "f4f87175-94cb-46c1-bd75-b44cdf401f58",
   "metadata": {},
   "outputs": [
    {
     "data": {
      "text/plain": [
       "2000"
      ]
     },
     "execution_count": 8,
     "metadata": {},
     "output_type": "execute_result"
    }
   ],
   "source": [
    "len(X_test)"
   ]
  },
  {
   "cell_type": "code",
   "execution_count": 9,
   "id": "93f0dee9-1b0a-4621-8db1-5cd4c143f9d0",
   "metadata": {},
   "outputs": [],
   "source": [
    "from sklearn.preprocessing import StandardScaler\n",
    "\n",
    "scaler = StandardScaler()\n",
    "\n",
    "trainScaler = scaler.fit(X_train)"
   ]
  },
  {
   "cell_type": "code",
   "execution_count": 10,
   "id": "7de64541-dca5-4022-89db-7a7fb586d583",
   "metadata": {},
   "outputs": [],
   "source": [
    "X_train_scaled = trainScaler.transform(X_train)\n",
    "X_test_scaled = trainScaler.transform(X_test)\n",
    "\n"
   ]
  },
  {
   "cell_type": "code",
   "execution_count": 11,
   "id": "c923cbf2-ed37-4f96-9bf5-26f32b14c5ed",
   "metadata": {},
   "outputs": [],
   "source": [
    "from sklearn.neighbors import KNeighborsClassifier\n",
    "\n",
    "model = KNeighborsClassifier()"
   ]
  },
  {
   "cell_type": "markdown",
   "id": "8167485d-b40e-416b-91ad-44e1a01c16a8",
   "metadata": {},
   "source": [
    "**e.** Because we are interested in evaluating a variety of different possible values of $k$ in our model, we create a dictionary of values to explore using the label *n_neighbors* and a **range** of values between 1 and 10 (with the latter value being set to 10 + 1 since the end of **range** is exclusive). Enter:"
   ]
  },
  {
   "cell_type": "code",
   "execution_count": 12,
   "id": "333f65b9-cf15-4acf-866b-36181cad7cef",
   "metadata": {},
   "outputs": [],
   "source": [
    "paramGrid = {'n_neighbors': range(1, 10 + 1)}"
   ]
  },
  {
   "cell_type": "markdown",
   "id": "f1e033df-a4c8-4ddd-bd1a-05b293f0a79f",
   "metadata": {},
   "source": [
    "**f.** Now we are ready to fit our models and evaluate the different $k$ values. To do this, we will use $k$-fold cross-validation, as noted earlier (where the $k$ in $k$-fold vs. the $k$ in KNN are not to be confused). Before we get started, we need to set up the procedure using the scikit-learn **GridSearchCV** function and store it in a variable with the label search. Within the function, the first two arguments are used to specify our model from part d and our paramGrid from part e above; in addition, we use *cv* to set the number of folds to 10 and choose `'accuracy'` as our *scoring* metric to have results comparable to what is shown in the text (alternative scoring metrics may also be evaluated, which can be useful in various cases such as high class imbalance). Enter:"
   ]
  },
  {
   "cell_type": "code",
   "execution_count": 13,
   "id": "e46ca4e1-ada4-4a3c-a2b6-a83e150dcb1e",
   "metadata": {},
   "outputs": [],
   "source": [
    "from sklearn.model_selection import GridSearchCV\n",
    "\n",
    "search = GridSearchCV(model, \n",
    "                      paramGrid, \n",
    "                      cv = 10, \n",
    "                      scoring = 'accuracy')"
   ]
  },
  {
   "cell_type": "markdown",
   "id": "48fcbb59-0fdf-4b70-8e5e-00485076036b",
   "metadata": {},
   "source": [
    "To actually run the modeling process, we use the **fit** method on our search variable and store the result in searchFit. Enter:"
   ]
  },
  {
   "cell_type": "code",
   "execution_count": 14,
   "id": "034c3636-58ce-4ecd-8717-b862255adc1e",
   "metadata": {},
   "outputs": [],
   "source": [
    "searchFit = search.fit(X_train_scaled, y_train)"
   ]
  },
  {
   "cell_type": "markdown",
   "id": "cce01f8c-17cd-4efa-8a11-6c153644e388",
   "metadata": {},
   "source": [
    "**g.** To view the results of our search, including accuracy, we can use the **cv_results_** property of searchFit. To make the output more presentable, we wrap the result as a Pandas DataFrame (table). Enter:"
   ]
  },
  {
   "cell_type": "code",
   "execution_count": 15,
   "id": "8b5992ae-9e39-4205-bd22-3d517db2cdb1",
   "metadata": {},
   "outputs": [
    {
     "data": {
      "text/html": [
       "<div>\n",
       "<style scoped>\n",
       "    .dataframe tbody tr th:only-of-type {\n",
       "        vertical-align: middle;\n",
       "    }\n",
       "\n",
       "    .dataframe tbody tr th {\n",
       "        vertical-align: top;\n",
       "    }\n",
       "\n",
       "    .dataframe thead th {\n",
       "        text-align: right;\n",
       "    }\n",
       "</style>\n",
       "<table border=\"1\" class=\"dataframe\">\n",
       "  <thead>\n",
       "    <tr style=\"text-align: right;\">\n",
       "      <th></th>\n",
       "      <th>mean_fit_time</th>\n",
       "      <th>std_fit_time</th>\n",
       "      <th>mean_score_time</th>\n",
       "      <th>std_score_time</th>\n",
       "      <th>param_n_neighbors</th>\n",
       "      <th>params</th>\n",
       "      <th>split0_test_score</th>\n",
       "      <th>split1_test_score</th>\n",
       "      <th>split2_test_score</th>\n",
       "      <th>split3_test_score</th>\n",
       "      <th>split4_test_score</th>\n",
       "      <th>split5_test_score</th>\n",
       "      <th>split6_test_score</th>\n",
       "      <th>split7_test_score</th>\n",
       "      <th>split8_test_score</th>\n",
       "      <th>split9_test_score</th>\n",
       "      <th>mean_test_score</th>\n",
       "      <th>std_test_score</th>\n",
       "      <th>rank_test_score</th>\n",
       "    </tr>\n",
       "  </thead>\n",
       "  <tbody>\n",
       "    <tr>\n",
       "      <th>0</th>\n",
       "      <td>0.004356</td>\n",
       "      <td>0.004684</td>\n",
       "      <td>0.013094</td>\n",
       "      <td>4.712851e-03</td>\n",
       "      <td>1</td>\n",
       "      <td>{'n_neighbors': 1}</td>\n",
       "      <td>0.953333</td>\n",
       "      <td>0.976667</td>\n",
       "      <td>0.953333</td>\n",
       "      <td>0.953333</td>\n",
       "      <td>0.960000</td>\n",
       "      <td>0.943333</td>\n",
       "      <td>0.970000</td>\n",
       "      <td>0.956667</td>\n",
       "      <td>0.933333</td>\n",
       "      <td>0.966667</td>\n",
       "      <td>0.956667</td>\n",
       "      <td>0.012019</td>\n",
       "      <td>2</td>\n",
       "    </tr>\n",
       "    <tr>\n",
       "      <th>1</th>\n",
       "      <td>0.007399</td>\n",
       "      <td>0.006096</td>\n",
       "      <td>0.011937</td>\n",
       "      <td>6.007594e-03</td>\n",
       "      <td>2</td>\n",
       "      <td>{'n_neighbors': 2}</td>\n",
       "      <td>0.956667</td>\n",
       "      <td>0.966667</td>\n",
       "      <td>0.953333</td>\n",
       "      <td>0.946667</td>\n",
       "      <td>0.950000</td>\n",
       "      <td>0.946667</td>\n",
       "      <td>0.963333</td>\n",
       "      <td>0.946667</td>\n",
       "      <td>0.936667</td>\n",
       "      <td>0.943333</td>\n",
       "      <td>0.951000</td>\n",
       "      <td>0.008699</td>\n",
       "      <td>5</td>\n",
       "    </tr>\n",
       "    <tr>\n",
       "      <th>2</th>\n",
       "      <td>0.005285</td>\n",
       "      <td>0.006991</td>\n",
       "      <td>0.013181</td>\n",
       "      <td>5.117097e-03</td>\n",
       "      <td>3</td>\n",
       "      <td>{'n_neighbors': 3}</td>\n",
       "      <td>0.956667</td>\n",
       "      <td>0.970000</td>\n",
       "      <td>0.953333</td>\n",
       "      <td>0.946667</td>\n",
       "      <td>0.956667</td>\n",
       "      <td>0.953333</td>\n",
       "      <td>0.970000</td>\n",
       "      <td>0.950000</td>\n",
       "      <td>0.950000</td>\n",
       "      <td>0.966667</td>\n",
       "      <td>0.957333</td>\n",
       "      <td>0.008138</td>\n",
       "      <td>1</td>\n",
       "    </tr>\n",
       "    <tr>\n",
       "      <th>3</th>\n",
       "      <td>0.006214</td>\n",
       "      <td>0.005420</td>\n",
       "      <td>0.015858</td>\n",
       "      <td>2.138095e-03</td>\n",
       "      <td>4</td>\n",
       "      <td>{'n_neighbors': 4}</td>\n",
       "      <td>0.953333</td>\n",
       "      <td>0.956667</td>\n",
       "      <td>0.946667</td>\n",
       "      <td>0.940000</td>\n",
       "      <td>0.953333</td>\n",
       "      <td>0.950000</td>\n",
       "      <td>0.970000</td>\n",
       "      <td>0.943333</td>\n",
       "      <td>0.933333</td>\n",
       "      <td>0.946667</td>\n",
       "      <td>0.949333</td>\n",
       "      <td>0.009522</td>\n",
       "      <td>8</td>\n",
       "    </tr>\n",
       "    <tr>\n",
       "      <th>4</th>\n",
       "      <td>0.008020</td>\n",
       "      <td>0.007116</td>\n",
       "      <td>0.014526</td>\n",
       "      <td>5.007176e-03</td>\n",
       "      <td>5</td>\n",
       "      <td>{'n_neighbors': 5}</td>\n",
       "      <td>0.960000</td>\n",
       "      <td>0.960000</td>\n",
       "      <td>0.953333</td>\n",
       "      <td>0.943333</td>\n",
       "      <td>0.963333</td>\n",
       "      <td>0.950000</td>\n",
       "      <td>0.980000</td>\n",
       "      <td>0.956667</td>\n",
       "      <td>0.933333</td>\n",
       "      <td>0.956667</td>\n",
       "      <td>0.955667</td>\n",
       "      <td>0.011743</td>\n",
       "      <td>3</td>\n",
       "    </tr>\n",
       "    <tr>\n",
       "      <th>5</th>\n",
       "      <td>0.006481</td>\n",
       "      <td>0.006492</td>\n",
       "      <td>0.015352</td>\n",
       "      <td>1.524516e-03</td>\n",
       "      <td>6</td>\n",
       "      <td>{'n_neighbors': 6}</td>\n",
       "      <td>0.956667</td>\n",
       "      <td>0.960000</td>\n",
       "      <td>0.943333</td>\n",
       "      <td>0.940000</td>\n",
       "      <td>0.953333</td>\n",
       "      <td>0.946667</td>\n",
       "      <td>0.976667</td>\n",
       "      <td>0.950000</td>\n",
       "      <td>0.933333</td>\n",
       "      <td>0.946667</td>\n",
       "      <td>0.950667</td>\n",
       "      <td>0.011431</td>\n",
       "      <td>7</td>\n",
       "    </tr>\n",
       "    <tr>\n",
       "      <th>6</th>\n",
       "      <td>0.004687</td>\n",
       "      <td>0.007159</td>\n",
       "      <td>0.015623</td>\n",
       "      <td>2.910270e-07</td>\n",
       "      <td>7</td>\n",
       "      <td>{'n_neighbors': 7}</td>\n",
       "      <td>0.950000</td>\n",
       "      <td>0.963333</td>\n",
       "      <td>0.953333</td>\n",
       "      <td>0.943333</td>\n",
       "      <td>0.963333</td>\n",
       "      <td>0.946667</td>\n",
       "      <td>0.976667</td>\n",
       "      <td>0.956667</td>\n",
       "      <td>0.933333</td>\n",
       "      <td>0.950000</td>\n",
       "      <td>0.953667</td>\n",
       "      <td>0.011494</td>\n",
       "      <td>4</td>\n",
       "    </tr>\n",
       "    <tr>\n",
       "      <th>7</th>\n",
       "      <td>0.006771</td>\n",
       "      <td>0.008415</td>\n",
       "      <td>0.015390</td>\n",
       "      <td>1.191147e-03</td>\n",
       "      <td>8</td>\n",
       "      <td>{'n_neighbors': 8}</td>\n",
       "      <td>0.950000</td>\n",
       "      <td>0.956667</td>\n",
       "      <td>0.950000</td>\n",
       "      <td>0.936667</td>\n",
       "      <td>0.960000</td>\n",
       "      <td>0.943333</td>\n",
       "      <td>0.966667</td>\n",
       "      <td>0.946667</td>\n",
       "      <td>0.933333</td>\n",
       "      <td>0.940000</td>\n",
       "      <td>0.948333</td>\n",
       "      <td>0.010028</td>\n",
       "      <td>9</td>\n",
       "    </tr>\n",
       "    <tr>\n",
       "      <th>8</th>\n",
       "      <td>0.005979</td>\n",
       "      <td>0.005813</td>\n",
       "      <td>0.018957</td>\n",
       "      <td>5.864149e-03</td>\n",
       "      <td>9</td>\n",
       "      <td>{'n_neighbors': 9}</td>\n",
       "      <td>0.950000</td>\n",
       "      <td>0.956667</td>\n",
       "      <td>0.953333</td>\n",
       "      <td>0.936667</td>\n",
       "      <td>0.970000</td>\n",
       "      <td>0.943333</td>\n",
       "      <td>0.966667</td>\n",
       "      <td>0.950000</td>\n",
       "      <td>0.933333</td>\n",
       "      <td>0.950000</td>\n",
       "      <td>0.951000</td>\n",
       "      <td>0.011060</td>\n",
       "      <td>5</td>\n",
       "    </tr>\n",
       "    <tr>\n",
       "      <th>9</th>\n",
       "      <td>0.004321</td>\n",
       "      <td>0.006108</td>\n",
       "      <td>0.018644</td>\n",
       "      <td>6.618878e-03</td>\n",
       "      <td>10</td>\n",
       "      <td>{'n_neighbors': 10}</td>\n",
       "      <td>0.946667</td>\n",
       "      <td>0.956667</td>\n",
       "      <td>0.946667</td>\n",
       "      <td>0.933333</td>\n",
       "      <td>0.956667</td>\n",
       "      <td>0.943333</td>\n",
       "      <td>0.956667</td>\n",
       "      <td>0.940000</td>\n",
       "      <td>0.930000</td>\n",
       "      <td>0.943333</td>\n",
       "      <td>0.945333</td>\n",
       "      <td>0.008969</td>\n",
       "      <td>10</td>\n",
       "    </tr>\n",
       "  </tbody>\n",
       "</table>\n",
       "</div>"
      ],
      "text/plain": [
       "   mean_fit_time  std_fit_time  mean_score_time  std_score_time  \\\n",
       "0       0.004356      0.004684         0.013094    4.712851e-03   \n",
       "1       0.007399      0.006096         0.011937    6.007594e-03   \n",
       "2       0.005285      0.006991         0.013181    5.117097e-03   \n",
       "3       0.006214      0.005420         0.015858    2.138095e-03   \n",
       "4       0.008020      0.007116         0.014526    5.007176e-03   \n",
       "5       0.006481      0.006492         0.015352    1.524516e-03   \n",
       "6       0.004687      0.007159         0.015623    2.910270e-07   \n",
       "7       0.006771      0.008415         0.015390    1.191147e-03   \n",
       "8       0.005979      0.005813         0.018957    5.864149e-03   \n",
       "9       0.004321      0.006108         0.018644    6.618878e-03   \n",
       "\n",
       "  param_n_neighbors               params  split0_test_score  \\\n",
       "0                 1   {'n_neighbors': 1}           0.953333   \n",
       "1                 2   {'n_neighbors': 2}           0.956667   \n",
       "2                 3   {'n_neighbors': 3}           0.956667   \n",
       "3                 4   {'n_neighbors': 4}           0.953333   \n",
       "4                 5   {'n_neighbors': 5}           0.960000   \n",
       "5                 6   {'n_neighbors': 6}           0.956667   \n",
       "6                 7   {'n_neighbors': 7}           0.950000   \n",
       "7                 8   {'n_neighbors': 8}           0.950000   \n",
       "8                 9   {'n_neighbors': 9}           0.950000   \n",
       "9                10  {'n_neighbors': 10}           0.946667   \n",
       "\n",
       "   split1_test_score  split2_test_score  split3_test_score  split4_test_score  \\\n",
       "0           0.976667           0.953333           0.953333           0.960000   \n",
       "1           0.966667           0.953333           0.946667           0.950000   \n",
       "2           0.970000           0.953333           0.946667           0.956667   \n",
       "3           0.956667           0.946667           0.940000           0.953333   \n",
       "4           0.960000           0.953333           0.943333           0.963333   \n",
       "5           0.960000           0.943333           0.940000           0.953333   \n",
       "6           0.963333           0.953333           0.943333           0.963333   \n",
       "7           0.956667           0.950000           0.936667           0.960000   \n",
       "8           0.956667           0.953333           0.936667           0.970000   \n",
       "9           0.956667           0.946667           0.933333           0.956667   \n",
       "\n",
       "   split5_test_score  split6_test_score  split7_test_score  split8_test_score  \\\n",
       "0           0.943333           0.970000           0.956667           0.933333   \n",
       "1           0.946667           0.963333           0.946667           0.936667   \n",
       "2           0.953333           0.970000           0.950000           0.950000   \n",
       "3           0.950000           0.970000           0.943333           0.933333   \n",
       "4           0.950000           0.980000           0.956667           0.933333   \n",
       "5           0.946667           0.976667           0.950000           0.933333   \n",
       "6           0.946667           0.976667           0.956667           0.933333   \n",
       "7           0.943333           0.966667           0.946667           0.933333   \n",
       "8           0.943333           0.966667           0.950000           0.933333   \n",
       "9           0.943333           0.956667           0.940000           0.930000   \n",
       "\n",
       "   split9_test_score  mean_test_score  std_test_score  rank_test_score  \n",
       "0           0.966667         0.956667        0.012019                2  \n",
       "1           0.943333         0.951000        0.008699                5  \n",
       "2           0.966667         0.957333        0.008138                1  \n",
       "3           0.946667         0.949333        0.009522                8  \n",
       "4           0.956667         0.955667        0.011743                3  \n",
       "5           0.946667         0.950667        0.011431                7  \n",
       "6           0.950000         0.953667        0.011494                4  \n",
       "7           0.940000         0.948333        0.010028                9  \n",
       "8           0.950000         0.951000        0.011060                5  \n",
       "9           0.943333         0.945333        0.008969               10  "
      ]
     },
     "execution_count": 15,
     "metadata": {},
     "output_type": "execute_result"
    }
   ],
   "source": [
    "pd.DataFrame(searchFit.cv_results_)"
   ]
  },
  {
   "cell_type": "markdown",
   "id": "ec7688fb-cb89-4220-84c5-c092683aa1e2",
   "metadata": {},
   "source": [
    "Within this large table, we can see the results for different $k$ values within the KNN across the rows (i.e., see the column param_n_neighbors). On the far right, we can see the average test score (mean_test_score) as well as the ranking (rank_test_score), which shows that a $k$ setting of 3 performed best. The other columns in the table of output provide additional statistics such as the score on each split of the 10-fold cross-validation procedure. To make the results we are focused on more clear, we can use Pandas to sort the output based on rank_test_score with **sort_values** and also view only the relevant columns. Enter:"
   ]
  },
  {
   "cell_type": "code",
   "execution_count": 16,
   "id": "724ea01f-c1c6-40bd-9109-49cec8c0ed6e",
   "metadata": {},
   "outputs": [
    {
     "data": {
      "text/html": [
       "<div>\n",
       "<style scoped>\n",
       "    .dataframe tbody tr th:only-of-type {\n",
       "        vertical-align: middle;\n",
       "    }\n",
       "\n",
       "    .dataframe tbody tr th {\n",
       "        vertical-align: top;\n",
       "    }\n",
       "\n",
       "    .dataframe thead th {\n",
       "        text-align: right;\n",
       "    }\n",
       "</style>\n",
       "<table border=\"1\" class=\"dataframe\">\n",
       "  <thead>\n",
       "    <tr style=\"text-align: right;\">\n",
       "      <th></th>\n",
       "      <th>param_n_neighbors</th>\n",
       "      <th>mean_test_score</th>\n",
       "      <th>rank_test_score</th>\n",
       "    </tr>\n",
       "  </thead>\n",
       "  <tbody>\n",
       "    <tr>\n",
       "      <th>2</th>\n",
       "      <td>3</td>\n",
       "      <td>0.957333</td>\n",
       "      <td>1</td>\n",
       "    </tr>\n",
       "    <tr>\n",
       "      <th>0</th>\n",
       "      <td>1</td>\n",
       "      <td>0.956667</td>\n",
       "      <td>2</td>\n",
       "    </tr>\n",
       "    <tr>\n",
       "      <th>4</th>\n",
       "      <td>5</td>\n",
       "      <td>0.955667</td>\n",
       "      <td>3</td>\n",
       "    </tr>\n",
       "    <tr>\n",
       "      <th>6</th>\n",
       "      <td>7</td>\n",
       "      <td>0.953667</td>\n",
       "      <td>4</td>\n",
       "    </tr>\n",
       "    <tr>\n",
       "      <th>1</th>\n",
       "      <td>2</td>\n",
       "      <td>0.951000</td>\n",
       "      <td>5</td>\n",
       "    </tr>\n",
       "    <tr>\n",
       "      <th>8</th>\n",
       "      <td>9</td>\n",
       "      <td>0.951000</td>\n",
       "      <td>5</td>\n",
       "    </tr>\n",
       "    <tr>\n",
       "      <th>5</th>\n",
       "      <td>6</td>\n",
       "      <td>0.950667</td>\n",
       "      <td>7</td>\n",
       "    </tr>\n",
       "    <tr>\n",
       "      <th>3</th>\n",
       "      <td>4</td>\n",
       "      <td>0.949333</td>\n",
       "      <td>8</td>\n",
       "    </tr>\n",
       "    <tr>\n",
       "      <th>7</th>\n",
       "      <td>8</td>\n",
       "      <td>0.948333</td>\n",
       "      <td>9</td>\n",
       "    </tr>\n",
       "    <tr>\n",
       "      <th>9</th>\n",
       "      <td>10</td>\n",
       "      <td>0.945333</td>\n",
       "      <td>10</td>\n",
       "    </tr>\n",
       "  </tbody>\n",
       "</table>\n",
       "</div>"
      ],
      "text/plain": [
       "  param_n_neighbors  mean_test_score  rank_test_score\n",
       "2                 3         0.957333                1\n",
       "0                 1         0.956667                2\n",
       "4                 5         0.955667                3\n",
       "6                 7         0.953667                4\n",
       "1                 2         0.951000                5\n",
       "8                 9         0.951000                5\n",
       "5                 6         0.950667                7\n",
       "3                 4         0.949333                8\n",
       "7                 8         0.948333                9\n",
       "9                10         0.945333               10"
      ]
     },
     "execution_count": 16,
     "metadata": {},
     "output_type": "execute_result"
    }
   ],
   "source": [
    "pd.DataFrame(searchFit.cv_results_).sort_values('rank_test_score')[['param_n_neighbors', 'mean_test_score', 'rank_test_score']]"
   ]
  },
  {
   "cell_type": "markdown",
   "id": "6fbb15af-172d-4748-97e8-592c0d77f079",
   "metadata": {},
   "source": [
    "Alternatively, to view the best model parameters, we can also use the **best_estimator_** attribute: "
   ]
  },
  {
   "cell_type": "code",
   "execution_count": 17,
   "id": "5272f1a6-5f20-4fb4-9f1a-5a2c1911e93f",
   "metadata": {},
   "outputs": [
    {
     "data": {
      "text/html": [
       "<style>#sk-container-id-1 {color: black;background-color: white;}#sk-container-id-1 pre{padding: 0;}#sk-container-id-1 div.sk-toggleable {background-color: white;}#sk-container-id-1 label.sk-toggleable__label {cursor: pointer;display: block;width: 100%;margin-bottom: 0;padding: 0.3em;box-sizing: border-box;text-align: center;}#sk-container-id-1 label.sk-toggleable__label-arrow:before {content: \"▸\";float: left;margin-right: 0.25em;color: #696969;}#sk-container-id-1 label.sk-toggleable__label-arrow:hover:before {color: black;}#sk-container-id-1 div.sk-estimator:hover label.sk-toggleable__label-arrow:before {color: black;}#sk-container-id-1 div.sk-toggleable__content {max-height: 0;max-width: 0;overflow: hidden;text-align: left;background-color: #f0f8ff;}#sk-container-id-1 div.sk-toggleable__content pre {margin: 0.2em;color: black;border-radius: 0.25em;background-color: #f0f8ff;}#sk-container-id-1 input.sk-toggleable__control:checked~div.sk-toggleable__content {max-height: 200px;max-width: 100%;overflow: auto;}#sk-container-id-1 input.sk-toggleable__control:checked~label.sk-toggleable__label-arrow:before {content: \"▾\";}#sk-container-id-1 div.sk-estimator input.sk-toggleable__control:checked~label.sk-toggleable__label {background-color: #d4ebff;}#sk-container-id-1 div.sk-label input.sk-toggleable__control:checked~label.sk-toggleable__label {background-color: #d4ebff;}#sk-container-id-1 input.sk-hidden--visually {border: 0;clip: rect(1px 1px 1px 1px);clip: rect(1px, 1px, 1px, 1px);height: 1px;margin: -1px;overflow: hidden;padding: 0;position: absolute;width: 1px;}#sk-container-id-1 div.sk-estimator {font-family: monospace;background-color: #f0f8ff;border: 1px dotted black;border-radius: 0.25em;box-sizing: border-box;margin-bottom: 0.5em;}#sk-container-id-1 div.sk-estimator:hover {background-color: #d4ebff;}#sk-container-id-1 div.sk-parallel-item::after {content: \"\";width: 100%;border-bottom: 1px solid gray;flex-grow: 1;}#sk-container-id-1 div.sk-label:hover label.sk-toggleable__label {background-color: #d4ebff;}#sk-container-id-1 div.sk-serial::before {content: \"\";position: absolute;border-left: 1px solid gray;box-sizing: border-box;top: 0;bottom: 0;left: 50%;z-index: 0;}#sk-container-id-1 div.sk-serial {display: flex;flex-direction: column;align-items: center;background-color: white;padding-right: 0.2em;padding-left: 0.2em;position: relative;}#sk-container-id-1 div.sk-item {position: relative;z-index: 1;}#sk-container-id-1 div.sk-parallel {display: flex;align-items: stretch;justify-content: center;background-color: white;position: relative;}#sk-container-id-1 div.sk-item::before, #sk-container-id-1 div.sk-parallel-item::before {content: \"\";position: absolute;border-left: 1px solid gray;box-sizing: border-box;top: 0;bottom: 0;left: 50%;z-index: -1;}#sk-container-id-1 div.sk-parallel-item {display: flex;flex-direction: column;z-index: 1;position: relative;background-color: white;}#sk-container-id-1 div.sk-parallel-item:first-child::after {align-self: flex-end;width: 50%;}#sk-container-id-1 div.sk-parallel-item:last-child::after {align-self: flex-start;width: 50%;}#sk-container-id-1 div.sk-parallel-item:only-child::after {width: 0;}#sk-container-id-1 div.sk-dashed-wrapped {border: 1px dashed gray;margin: 0 0.4em 0.5em 0.4em;box-sizing: border-box;padding-bottom: 0.4em;background-color: white;}#sk-container-id-1 div.sk-label label {font-family: monospace;font-weight: bold;display: inline-block;line-height: 1.2em;}#sk-container-id-1 div.sk-label-container {text-align: center;}#sk-container-id-1 div.sk-container {/* jupyter's `normalize.less` sets `[hidden] { display: none; }` but bootstrap.min.css set `[hidden] { display: none !important; }` so we also need the `!important` here to be able to override the default hidden behavior on the sphinx rendered scikit-learn.org. See: https://github.com/scikit-learn/scikit-learn/issues/21755 */display: inline-block !important;position: relative;}#sk-container-id-1 div.sk-text-repr-fallback {display: none;}</style><div id=\"sk-container-id-1\" class=\"sk-top-container\"><div class=\"sk-text-repr-fallback\"><pre>KNeighborsClassifier(n_neighbors=3)</pre><b>In a Jupyter environment, please rerun this cell to show the HTML representation or trust the notebook. <br />On GitHub, the HTML representation is unable to render, please try loading this page with nbviewer.org.</b></div><div class=\"sk-container\" hidden><div class=\"sk-item\"><div class=\"sk-estimator sk-toggleable\"><input class=\"sk-toggleable__control sk-hidden--visually\" id=\"sk-estimator-id-1\" type=\"checkbox\" checked><label for=\"sk-estimator-id-1\" class=\"sk-toggleable__label sk-toggleable__label-arrow\">KNeighborsClassifier</label><div class=\"sk-toggleable__content\"><pre>KNeighborsClassifier(n_neighbors=3)</pre></div></div></div></div></div>"
      ],
      "text/plain": [
       "KNeighborsClassifier(n_neighbors=3)"
      ]
     },
     "execution_count": 17,
     "metadata": {},
     "output_type": "execute_result"
    }
   ],
   "source": [
    "searchFit.best_estimator_"
   ]
  },
  {
   "cell_type": "markdown",
   "id": "5f30d57c-623e-4918-9082-afe29b0f106e",
   "metadata": {},
   "source": [
    "We can now apply our trained KNN model to our scaled test data from part c (X_test_scaled) using the **predict** method of fitted model search (searchFit). We store our predictions in the variable testPredictions. Enter:"
   ]
  },
  {
   "cell_type": "code",
   "execution_count": 18,
   "id": "96b8dafd-f71f-4c13-9b5a-91e758b3ed48",
   "metadata": {},
   "outputs": [
    {
     "data": {
      "text/plain": [
       "array([1, 0, 0, ..., 0, 0, 0], dtype=int64)"
      ]
     },
     "execution_count": 18,
     "metadata": {},
     "output_type": "execute_result"
    }
   ],
   "source": [
    "testPredictions = searchFit.predict(X_test_scaled)\n",
    "testPredictions"
   ]
  },
  {
   "cell_type": "markdown",
   "id": "f662d3b1-f190-4eb7-b28a-f18c55b7fc94",
   "metadata": {},
   "source": [
    "To create a simple confusion matrix, we can use the scikit-learn **confusion_matrix** function to compare our test predictions (testPredictions) to the actual test outcomes (y_test). Enter:"
   ]
  },
  {
   "cell_type": "code",
   "execution_count": 19,
   "id": "2e86f6a8-d009-4ce7-95be-64740270339e",
   "metadata": {},
   "outputs": [
    {
     "data": {
      "text/plain": [
       "array([[1805,    8],\n",
       "       [  81,  106]], dtype=int64)"
      ]
     },
     "execution_count": 19,
     "metadata": {},
     "output_type": "execute_result"
    }
   ],
   "source": [
    "from sklearn.metrics import confusion_matrix\n",
    "\n",
    "confusion_matrix(y_test, testPredictions)"
   ]
  },
  {
   "cell_type": "markdown",
   "id": "358213a9-1c71-4a05-90d8-47eff3d51213",
   "metadata": {},
   "source": [
    "Alternatively, we can also visualize the result using scikit-learn's **ConfusionMatrixDisplay.from_estimator** (formerly **plot_confusion_matrix**), which takes our best model (searchFit), scaled test predictors (X_test_scaled), and outcomes (y_test) as the first three arguments. We also import matplotlib and use `plt.cm.Blues` to adjust the *cmap* argument of **ConfusionMatrixDisplay.from_estimator** to make the visual more presentable. Enter:"
   ]
  },
  {
   "cell_type": "code",
   "execution_count": 20,
   "id": "e2dff71c-6548-4f2c-9e37-022e7e6dbf3a",
   "metadata": {},
   "outputs": [
    {
     "data": {
      "image/png": "[encoded data removed]",
      "text/plain": [
       "<Figure size 640x480 with 2 Axes>"
      ]
     },
     "metadata": {},
     "output_type": "display_data"
    }
   ],
   "source": [
    "from sklearn.metrics import ConfusionMatrixDisplay\n",
    "import matplotlib.pyplot as plt\n",
    "\n",
    "ConfusionMatrixDisplay.from_estimator(searchFit, \n",
    "                                      X_test_scaled, \n",
    "                                      y_test, \n",
    "                                      cmap = plt.cm.Blues);"
   ]
  },
  {
   "cell_type": "markdown",
   "id": "609cb7bf-2f22-4068-99a2-bb2d10ecb934",
   "metadata": {},
   "source": [
    "To calculate specific metrics we can either compute them by hand with some basic algebra (e.g., accuracy = `(226+132)/(226+132+24+18)` = 0.895) or use various scikit-learn functions. For example, to calculate accuracy, we can use **accuracy_score**. Enter:"
   ]
  },
  {
   "cell_type": "code",
   "execution_count": 21,
   "id": "05e1b4ca-f1a8-452a-bc68-40eba29a8e6c",
   "metadata": {},
   "outputs": [
    {
     "data": {
      "text/plain": [
       "0.9555"
      ]
     },
     "execution_count": 21,
     "metadata": {},
     "output_type": "execute_result"
    }
   ],
   "source": [
    "from sklearn.metrics import accuracy_score\n",
    "\n",
    "accuracy_score(y_test, testPredictions)"
   ]
  },
  {
   "cell_type": "markdown",
   "id": "b23f1751-cc38-4ec2-afea-b70af368427c",
   "metadata": {},
   "source": [
    "Alternatively, we cause use **classification_report** to calculate several of them at once:"
   ]
  },
  {
   "cell_type": "code",
   "execution_count": 22,
   "id": "7988e1ec-c699-4d38-b676-772e83dcee4c",
   "metadata": {},
   "outputs": [
    {
     "name": "stdout",
     "output_type": "stream",
     "text": [
      "                precision    recall  f1-score   support\n",
      "\n",
      "Did Not Accept       0.96      1.00      0.98      1813\n",
      "      Accepted       0.93      0.57      0.70       187\n",
      "\n",
      "      accuracy                           0.96      2000\n",
      "     macro avg       0.94      0.78      0.84      2000\n",
      "  weighted avg       0.95      0.96      0.95      2000\n",
      "\n"
     ]
    }
   ],
   "source": [
    "from sklearn.metrics import classification_report\n",
    "\n",
    "print(classification_report(y_test, testPredictions, target_names = ['Did Not Accept', 'Accepted']))"
   ]
  },
  {
   "cell_type": "markdown",
   "id": "ab341517-323c-4f17-8f12-baa1fa38f2d5",
   "metadata": {},
   "source": [
    "To evaluate the predictive performance of the KNN model using a different cutoff value, we first compute the probability of each case belonging to the target classes instead of its class membership. The scikit-learn **predict_proba** method can be used for this purpose. Enter:"
   ]
  },
  {
   "cell_type": "code",
   "execution_count": 23,
   "id": "0dd2e3ce-59d8-4816-a809-e2ff07057120",
   "metadata": {},
   "outputs": [
    {
     "data": {
      "text/plain": [
       "array([[0.33333333, 0.66666667],\n",
       "       [1.        , 0.        ],\n",
       "       [1.        , 0.        ],\n",
       "       [0.33333333, 0.66666667],\n",
       "       [1.        , 0.        ],\n",
       "       [1.        , 0.        ],\n",
       "       [1.        , 0.        ],\n",
       "       [0.        , 1.        ],\n",
       "       [1.        , 0.        ],\n",
       "       [1.        , 0.        ]])"
      ]
     },
     "execution_count": 23,
     "metadata": {},
     "output_type": "execute_result"
    }
   ],
   "source": [
    "testPredictionProbs = searchFit.predict_proba(X_test_scaled)\n",
    "testPredictionProbs[:10,]"
   ]
  },
  {
   "cell_type": "markdown",
   "id": "51f8001c-1673-406e-b875-96097ceded62",
   "metadata": {},
   "source": [
    "The first column in the output above shows the probabilities of the cases belonging to Class 0 (Not accepted the loan offer), while the second column lists the probabilities of the cases belonging to Class 1 (accepted the loan offer). To determine class memberships using a cutoff value other than the default probability of 0.5 (for example, 0.25, in order to accurately classify more Class 1 cases), we compare the values in the second column to the new cutoff value. To achieve this, we use the NumPy **where** function to test which values in the second column (i.e., referenced via the slice `[:, 1]`, which indicates all rows in the second column [recall that in Python, since the first column is indexed by a 0, the second column is represented by 1]) are greater than the cutoff of `0.25`; values that are greater will be scored a `1` and values that are not will be scored a `0`, respectively. Enter:"
   ]
  },
  {
   "cell_type": "code",
   "execution_count": 24,
   "id": "5bd8bd7d-bd31-46bb-95ea-66cffb859891",
   "metadata": {},
   "outputs": [
    {
     "data": {
      "text/plain": [
       "4000"
      ]
     },
     "execution_count": 24,
     "metadata": {},
     "output_type": "execute_result"
    }
   ],
   "source": [
    "np.size(testPredictionProbs)"
   ]
  },
  {
   "cell_type": "code",
   "execution_count": 25,
   "id": "34ab176a-fabb-4471-9d3f-5bf9b9db13a4",
   "metadata": {},
   "outputs": [
    {
     "data": {
      "text/plain": [
       "array([1, 0, 0, 1, 0])"
      ]
     },
     "execution_count": 25,
     "metadata": {},
     "output_type": "execute_result"
    }
   ],
   "source": [
    "testPredsCustomCutoff=np.where(testPredictionProbs[:,1]>0.3,1,0)\n",
    "testPredsCustomCutoff[:5] # show the first 5 class predictions"
   ]
  },
  {
   "cell_type": "markdown",
   "id": "faec7350-3ee1-4cd4-a184-314233c95365",
   "metadata": {},
   "source": [
    "Use confusion matrix from sklearn as above"
   ]
  },
  {
   "cell_type": "code",
   "execution_count": 26,
   "id": "21b6d1ea-5bfb-47d5-ac7e-5f23c386a435",
   "metadata": {},
   "outputs": [
    {
     "data": {
      "text/plain": [
       "array([[1746,   67],\n",
       "       [  30,  157]], dtype=int64)"
      ]
     },
     "execution_count": 26,
     "metadata": {},
     "output_type": "execute_result"
    }
   ],
   "source": [
    "confusion_matrix(y_test,testPredsCustomCutoff)"
   ]
  },
  {
   "cell_type": "code",
   "execution_count": 27,
   "id": "2c763892-0863-47ef-a015-f8bf3a0deb30",
   "metadata": {},
   "outputs": [
    {
     "name": "stdout",
     "output_type": "stream",
     "text": [
      "                precision    recall  f1-score   support\n",
      "\n",
      "Did Not Accept       0.98      0.96      0.97      1813\n",
      "        Accept       0.70      0.84      0.76       187\n",
      "\n",
      "      accuracy                           0.95      2000\n",
      "     macro avg       0.84      0.90      0.87      2000\n",
      "  weighted avg       0.96      0.95      0.95      2000\n",
      "\n"
     ]
    }
   ],
   "source": [
    "print(classification_report(y_test, testPredsCustomCutoff, target_names = ['Did Not Accept', 'Accept']))"
   ]
  },
  {
   "cell_type": "code",
   "execution_count": 28,
   "id": "1db55600-89d4-42d9-88cc-1b633e08f333",
   "metadata": {
    "tags": []
   },
   "outputs": [
    {
     "data": {
      "text/plain": [
       "0.9515"
      ]
     },
     "execution_count": 28,
     "metadata": {},
     "output_type": "execute_result"
    }
   ],
   "source": [
    "accuracy_score(y_test, testPredsCustomCutoff)"
   ]
  },
  {
   "cell_type": "code",
   "execution_count": 29,
   "id": "0e78fb89-15ca-4d8f-81c1-f9c03169b36d",
   "metadata": {},
   "outputs": [
    {
     "data": {
      "text/plain": [
       "0.9555"
      ]
     },
     "execution_count": 29,
     "metadata": {},
     "output_type": "execute_result"
    }
   ],
   "source": [
    "accuracy_score(y_test, testPredictions)"
   ]
  },
  {
   "cell_type": "markdown",
   "id": "d04c34a7-b106-47eb-bb5a-5d46e9d85560",
   "metadata": {},
   "source": [
    "When we drop the cutoff probability accuracy slightly dropped but recall (Sensitivity) increases. So, the decision maker is able to catch more of class 1. Which is good"
   ]
  },
  {
   "cell_type": "code",
   "execution_count": 30,
   "id": "7dc05b1d-e074-46fb-beb7-a0c32ebfce21",
   "metadata": {
    "tags": []
   },
   "outputs": [
    {
     "data": {
      "text/markdown": [
       "Accuracy score is 0.9555"
      ],
      "text/plain": [
       "<IPython.core.display.Markdown object>"
      ]
     },
     "execution_count": 30,
     "metadata": {},
     "output_type": "execute_result"
    }
   ],
   "source": [
    "\n",
    "from IPython.display import Markdown as md\n",
    "md(\"Accuracy score is \"+ str(accuracy_score(y_test,testPredictions)))\n"
   ]
  },
  {
   "cell_type": "code",
   "execution_count": null,
   "id": "c3b65e02-dd45-455f-bbb6-38a10dea54ca",
   "metadata": {},
   "outputs": [],
   "source": []
  }
 ],
 "metadata": {
  "kernelspec": {
   "display_name": "base",
   "language": "python",
   "name": "python3"
  },
  "language_info": {
   "file_extension": ".jl",
   "mimetype": "application/julia",
   "name": "python",
   "version": "3.11.5"
  }
 },
 "nbformat": 4,
 "nbformat_minor": 5
}
